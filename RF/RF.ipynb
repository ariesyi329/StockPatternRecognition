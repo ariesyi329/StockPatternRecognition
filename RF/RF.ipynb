{
 "cells": [
  {
   "cell_type": "code",
   "execution_count": 1,
   "metadata": {
    "collapsed": false
   },
   "outputs": [],
   "source": [
    "# %load /Users/ZHHR/Desktop/DS_GA_1003/Project/stock_project/KNN/baseline.py\n",
    "\n",
    "import sys, os\n",
    "sys.path.append(os.path.join(os.path.dirname(\"__file__\"), '..'))\n",
    "import numpy as np\n",
    "import datetime\n",
    "from __future__ import division\n",
    "from sklearn.neighbors import KNeighborsClassifier\n",
    "from sklearn.ensemble import RandomForestClassifier\n",
    "from sklearn.preprocessing import normalize\n",
    "from sklearn.metrics import accuracy_score\n",
    "from sklearn import decomposition\n",
    "from sklearn.tree import DecisionTreeClassifier\n",
    "from model_prep import feature_generator as fg\n",
    "from model_prep import data_util as ut\n",
    "from model_eval import supervised_eval as se\n",
    "from matplotlib import pyplot as plt\n",
    "%matplotlib inline\n",
    "def baseline_data(dataset,d1,d2,option):\n",
    "    \n",
    "    #load tickers data\n",
    "    F, IT, C, I = ut.load_ticker_data(dataset)\n",
    "    \n",
    "    #construct y labels\n",
    "    F_y, IT_y, C_y, I_y = ut.construct_y(F, IT, C, I)\n",
    "    \n",
    "    #construct train_X\n",
    "    F_X = fg.get_basic_records(F, d1, d2, option)\n",
    "    IT_X = fg.get_basic_records(IT, d1, d2, option)\n",
    "    C_X = fg.get_basic_records(C, d1, d2, option)\n",
    "    I_X = fg.get_basic_records(I, d1, d2, option)\n",
    "    \n",
    "    #finalize train and test data\n",
    "    X, y = ut.finalize_data(F_X,IT_X,C_X,I_X,\n",
    "                            F_y,IT_y,C_y,I_y)\n",
    "\n",
    "    return X, y\n",
    "\n",
    "\n",
    "def baseline_model(X_train,y_train,X_test,y_test):\n",
    "    \n",
    "    neigh = KNeighborsClassifier(n_neighbors=1)\n",
    "    neigh.fit(X_train, y_train)\n",
    "    predicted = neigh.predict(X_test)\n",
    "    \n",
    "    return predicted"
   ]
  },
  {
   "cell_type": "markdown",
   "metadata": {},
   "source": [
    "## Random Forrest"
   ]
  },
  {
   "cell_type": "code",
   "execution_count": 16,
   "metadata": {
    "collapsed": true
   },
   "outputs": [],
   "source": [
    "def RF_model(X_train,y_train,X_test,y_test):\n",
    "    #F = RandomForestClassifier(n_estimators=300, criterion='gini', max_depth=None, min_samples_split=8, min_samples_leaf=3, max_features='auto', max_leaf_nodes=4)\n",
    "    F = RandomForestClassifier(n_estimators=500)\n",
    "    F.fit(X_train, y_train)\n",
    "    predict = F.predict(X_test)\n",
    "    return predict"
   ]
  },
  {
   "cell_type": "code",
   "execution_count": 19,
   "metadata": {
    "collapsed": false
   },
   "outputs": [
    {
     "name": "stdout",
     "output_type": "stream",
     "text": [
      "\n",
      "===========ACCURACY===========\n",
      "\n",
      "89.57%\n",
      "\n",
      "===========Comfusion Matrix===========\n",
      "\n",
      "    F  IT  C  I\n",
      "F  [31  1  0  1]\n",
      "IT [ 0 24  0  3]\n",
      "C  [ 0  2 23  2]\n",
      "I  [ 0  3  0 25]\n",
      "\n",
      "===========Precision, Recall, F-score===========\n",
      "\n",
      "               F           IT         C          I \n",
      "Precision [ 1.          0.8         1.          0.80645161]\n",
      "Recall    [ 0.93939394  0.88888889  0.85185185  0.89285714]\n",
      "F-score   [ 0.96875     0.84210526  0.92        0.84745763]\n",
      "\n",
      "Average precision: 90.16%, recall: 89.32%, F-score: 89.46%\n"
     ]
    }
   ],
   "source": [
    "d1 = datetime.datetime(2005, 1, 1)\n",
    "d2 = datetime.datetime(2014, 12, 31)\n",
    "option = \"return rate\"\n",
    "train_X,train_y = baseline_data(\"training\",d1,d2,option)\n",
    "test_X,test_y = baseline_data(\"validation\",d1,d2,option)\n",
    "# train_X_raw,train_y = baseline_data(\"training\",d1,d2,option)\n",
    "# test_X_raw,test_y = baseline_data(\"validation\",d1,d2,option)\n",
    "# train_X = normalize(train_X_raw)\n",
    "# test_X = normalize(test_X_raw)\n",
    "# pca = decomposition.PCA(n_components=100)\n",
    "# pca.fit(train_X)\n",
    "# train_XX = pca.transform(train_X)\n",
    "# test_XX = pca.transform(test_X)\n",
    "predicted = RF_model(train_X, train_y, test_X, test_y)\n",
    "se.evaluate_matrix(test_y,predicted)"
   ]
  },
  {
   "cell_type": "markdown",
   "metadata": {},
   "source": [
    "##Decision Tree"
   ]
  },
  {
   "cell_type": "code",
   "execution_count": 65,
   "metadata": {
    "collapsed": false
   },
   "outputs": [
    {
     "name": "stdout",
     "output_type": "stream",
     "text": [
      "2 3 4 5 6 7 8 9 10 11 12 13 14 15 16 17 18 19 0.4\n"
     ]
    }
   ],
   "source": [
    "train_X_raw,train_y = baseline_data(\"training\",d1,d2,option)\n",
    "test_X_raw,test_y = baseline_data(\"validation\",d1,d2,option)\n",
    "train_X = normalize(train_X_raw)\n",
    "test_X = normalize(test_X_raw)\n",
    "\n",
    "train_err_list = []\n",
    "test_err_list = []\n",
    "\n",
    "for i in range(2, 20):\n",
    "#     # Standardize\n",
    "#     mean = X.mean(axis=0)\n",
    "#     std = X.std(axis=0)\n",
    "#     X = (X - mean) / std\n",
    "#     mean_test = X_test.mean(axis=0)\n",
    "#     std_test = X_test.std(axis=0)\n",
    "#     X_test = (X_test - mean_test) / std_test\n",
    "\n",
    "    # Train\n",
    "    clf = DecisionTreeClassifier(max_depth=i+2, min_samples_split=2, min_samples_leaf=1, max_features=None, max_leaf_nodes=None).fit(train_X, train_y)\n",
    "    y_train_pred = clf.predict(train_X)\n",
    "    y_test_pred = clf.predict(test_X)\n",
    "    train_err = 1-accuracy_score(train_y, y_train_pred)\n",
    "    train_err_list.append(train_err)\n",
    "    test_err = 1-accuracy_score(test_y, y_test_pred)\n",
    "    test_err_list.append(test_err)\n",
    "    print i,\n",
    "    \n",
    "print min(test_err_list)"
   ]
  },
  {
   "cell_type": "code",
   "execution_count": 66,
   "metadata": {
    "collapsed": false
   },
   "outputs": [
    {
     "data": {
      "image/png": "[encoded data removed]",
      "text/plain": [
       "<matplotlib.figure.Figure at 0x10ca1e2d0>"
      ]
     },
     "metadata": {},
     "output_type": "display_data"
    }
   ],
   "source": [
    "plt.plot(range(2, 20), train_err_list, label = 'Train Error')\n",
    "plt.plot(range(2, 20), test_err_list, label = 'Test Error')\n",
    "plt.xlabel('Max_leaf_nodes')\n",
    "plt.legend()\n",
    "plt.show()"
   ]
  },
  {
   "cell_type": "markdown",
   "metadata": {},
   "source": [
    "##Adaboost"
   ]
  },
  {
   "cell_type": "code",
   "execution_count": 97,
   "metadata": {
    "collapsed": false
   },
   "outputs": [],
   "source": [
    "\n",
    "# Initialize weights\n",
    "n_train = len(train_y)\n",
    "n_test = len(test_y)\n",
    "w_0_train = np.ones(n_train)/n_train\n",
    "\n",
    "\n",
    "# Create two arrays to store train and test errors\n",
    "ERR_train = np.zeros(20)\n",
    "ERR_test = np.zeros(20)\n",
    "\n",
    "# Adaboost\n",
    "for m in range(1, 21):\n",
    "    w = w_0_train\n",
    "    PRED_train = np.zeros(n_train)\n",
    "    PRED_test = np.zeros(n_test)\n",
    "    for j in range(1, m+1):\n",
    "        clf = DecisionTreeClassifier(max_depth=3, min_samples_split=2, min_samples_leaf=1)\n",
    "        clf.fit(train_X, train_y, sample_weight = w)\n",
    "        y_train_pred = clf.predict(train_X)\n",
    "        y_test_pred = clf.predict(test_X)\n",
    "        err = (1/float(np.sum(w)))*np.sum(w*((y_train_pred!=train_y).astype(float)))\n",
    "        alpha = np.log((1-err)/err)\n",
    "        w = w*np.exp(alpha*((y_train_pred!=train_y).astype(float)))        \n",
    "        PRED_train += alpha*y_train_pred\n",
    "        PRED_test += alpha*y_test_pred\n",
    "    PRED_train = np.sign(PRED_train)\n",
    "    PRED_test = np.sign(PRED_test)\n",
    "    ERR_train[m-1] = 1-accuracy_score(train_y, PRED_train)\n",
    "    ERR_test[m-1] = 1-accuracy_score(test_y, PRED_test)\n",
    "    #print m, ERR_train[m-1], ERR_test[m-1]"
   ]
  },
  {
   "cell_type": "code",
   "execution_count": 98,
   "metadata": {
    "collapsed": false
   },
   "outputs": [
    {
     "data": {
      "image/png": "[encoded data removed]",
      "text/plain": [
       "<matplotlib.figure.Figure at 0x10c94cbd0>"
      ]
     },
     "metadata": {},
     "output_type": "display_data"
    }
   ],
   "source": [
    "plt.plot(range(1, 21), ERR_train, label = 'Train Error')\n",
    "plt.plot(range(1, 21), ERR_test, label = 'Test Error')\n",
    "plt.xlabel('Number of Round')\n",
    "plt.legend()\n",
    "plt.show()"
   ]
  },
  {
   "cell_type": "code",
   "execution_count": 20,
   "metadata": {
    "collapsed": true
   },
   "outputs": [],
   "source": [
    "symbol_dict = {\n",
    "    'TOT': 'Total',\n",
    "    'XOM': 'Exxon',\n",
    "    'CVX': 'Chevron',\n",
    "    'COP': 'ConocoPhillips',\n",
    "    'VLO': 'Valero Energy',\n",
    "    'MSFT': 'Microsoft',\n",
    "    'IBM': 'IBM',\n",
    "    'TWX': 'Time Warner',\n",
    "    'CMCSA': 'Comcast',\n",
    "    'CVC': 'Cablevision',\n",
    "    'YHOO': 'Yahoo',\n",
    "    'DELL': 'Dell',\n",
    "    'HPQ': 'HP',\n",
    "    'AMZN': 'Amazon',\n",
    "    'TM': 'Toyota',\n",
    "    'CAJ': 'Canon',\n",
    "    'MTU': 'Mitsubishi',\n",
    "    'SNE': 'Sony',\n",
    "    'F': 'Ford',\n",
    "    'HMC': 'Honda',\n",
    "    'NAV': 'Navistar',\n",
    "    'NOC': 'Northrop Grumman',\n",
    "    'BA': 'Boeing',\n",
    "    'KO': 'Coca Cola',\n",
    "    'MMM': '3M',\n",
    "    'MCD': 'Mc Donalds',\n",
    "    'PEP': 'Pepsi',\n",
    "    'MDLZ': 'Kraft Foods',\n",
    "    'K': 'Kellogg',\n",
    "    'UN': 'Unilever',\n",
    "    'MAR': 'Marriott',\n",
    "    'PG': 'Procter Gamble',\n",
    "    'CL': 'Colgate-Palmolive',\n",
    "    'GE': 'General Electrics',\n",
    "    'WFC': 'Wells Fargo',\n",
    "    'JPM': 'JPMorgan Chase',\n",
    "    'AIG': 'AIG',\n",
    "    'AXP': 'American express',\n",
    "    'BAC': 'Bank of America',\n",
    "    'GS': 'Goldman Sachs',\n",
    "    'AAPL': 'Apple',\n",
    "    'SAP': 'SAP',\n",
    "    'CSCO': 'Cisco',\n",
    "    'TXN': 'Texas instruments',\n",
    "    'XRX': 'Xerox',\n",
    "    'LMT': 'Lookheed Martin',\n",
    "    'WMT': 'Wal-Mart',\n",
    "    'WBA': 'Walgreen',\n",
    "    'HD': 'Home Depot',\n",
    "    'GSK': 'GlaxoSmithKline',\n",
    "    'PFE': 'Pfizer',\n",
    "    'SNY': 'Sanofi-Aventis',\n",
    "    'NVS': 'Novartis',\n",
    "    'KMB': 'Kimberly-Clark',\n",
    "    'R': 'Ryder',\n",
    "    'GD': 'General Dynamics',\n",
    "    'RTN': 'Raytheon',\n",
    "    'CVS': 'CVS',\n",
    "    'CAT': 'Caterpillar',\n",
    "    'DD': 'DuPont de Nemours'}\n",
    " "
   ]
  },
  {
   "cell_type": "code",
   "execution_count": 21,
   "metadata": {
    "collapsed": false
   },
   "outputs": [
    {
     "data": {
      "text/plain": [
       "60"
      ]
     },
     "execution_count": 21,
     "metadata": {},
     "output_type": "execute_result"
    }
   ],
   "source": [
    "len(symbol_dict)"
   ]
  },
  {
   "cell_type": "code",
   "execution_count": null,
   "metadata": {
    "collapsed": true
   },
   "outputs": [],
   "source": []
  }
 ],
 "metadata": {
  "kernelspec": {
   "display_name": "Python 2",
   "language": "python",
   "name": "python2"
  },
  "language_info": {
   "codemirror_mode": {
    "name": "ipython",
    "version": 2
   },
   "file_extension": ".py",
   "mimetype": "text/x-python",
   "name": "python",
   "nbconvert_exporter": "python",
   "pygments_lexer": "ipython2",
   "version": "2.7.9"
  }
 },
 "nbformat": 4,
 "nbformat_minor": 0
}
